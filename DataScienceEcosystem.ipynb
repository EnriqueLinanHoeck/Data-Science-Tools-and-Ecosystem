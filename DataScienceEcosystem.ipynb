{
 "cells": [
  {
   "cell_type": "markdown",
   "id": "3af833dc-a593-48f1-9b10-5f4d70cfc696",
   "metadata": {},
   "source": [
    "# Data Science Tools and Ecosystem"
   ]
  },
  {
   "cell_type": "markdown",
   "id": "610823ff-24b7-41f8-b70c-8c40410fcbcf",
   "metadata": {},
   "source": [
    "In this notebook, Data Science Tools are summarized."
   ]
  },
  {
   "cell_type": "markdown",
   "id": "150628af-fe72-4278-ac8a-b36f282fd181",
   "metadata": {},
   "source": [
    "**Objectives:**\n",
    "\n",
    "- List popular languages for Data Science.\n",
    "- Create a markdown cell with a table of Data Science tools.\n",
    "- Convert minutes to hours using code.\n",
    "- Add comments to code and markdown cells.\n",
    "- Understand how to use and format tables and lists in Markdown."
   ]
  },
  {
   "cell_type": "markdown",
   "id": "369cc360-070f-49a6-a53b-ea2371b3a6d9",
   "metadata": {},
   "source": [
    "Some of the popular languages that Data Scientists use are: \n",
    "1. **Python** - Widely used for its simplicity and vast array of libraries (e.g., NumPy, Pandas, Scikit-learn, TensorFlow).\n",
    "2. **R** - Strongly suited for statistical analysis and visualization (e.g., ggplot2, dplyr).\n",
    "3. **SQL** - Essential for querying and managing databases.\n",
    "4. **Julia** - Known for its high-performance numerical analysis.\n",
    "5. **Scala** - Often used in conjunction with Apache Spark for big data processing."
   ]
  },
  {
   "cell_type": "markdown",
   "id": "e069986f-eff4-4e84-83bd-ba42c0e82334",
   "metadata": {},
   "source": [
    "Some of the commonly used libraries used by Data Scientists include:\n",
    "\n",
    "1. **Pandas** - For data manipulation and analysis.\n",
    "2. **NumPy** - For numerical computing.\n",
    "3. **Matplotlib** - For data visualization.\n",
    "4. **Scikit-learn** - For machine learning.\n",
    "5. **TensorFlow** - For deep learning."
   ]
  },
  {
   "cell_type": "markdown",
   "id": "51c2e9b6-b106-4c5b-a646-8ed4f803a50f",
   "metadata": {},
   "source": [
    "| Data Science Tools        |\n",
    "|---------------------------|\n",
    "| Jupyter Notebooks          |\n",
    "| RStudio                   |\n",
    "| Apache Zeppelin            |"
   ]
  },
  {
   "cell_type": "markdown",
   "id": "a0f5d20a-0ce0-4c9b-8d70-e32be8ad0f46",
   "metadata": {},
   "source": [
    "### Below are a few examples of evaluating arithmetic expressions in Python"
   ]
  },
  {
   "cell_type": "code",
   "execution_count": 31,
   "id": "17a72be2-aec7-4946-88ba-b48beff9fe76",
   "metadata": {},
   "outputs": [
    {
     "data": {
      "text/plain": [
       "17"
      ]
     },
     "execution_count": 31,
     "metadata": {},
     "output_type": "execute_result"
    }
   ],
   "source": [
    "#This a simple arithmetic expression to mutiply then add integers\n",
    "(3*4)+5"
   ]
  },
  {
   "cell_type": "code",
   "execution_count": 46,
   "id": "66f5d37c-4438-4d4f-9440-92cbc3e762b3",
   "metadata": {},
   "outputs": [
    {
     "data": {
      "text/plain": [
       "3.3333333333333335"
      ]
     },
     "execution_count": 46,
     "metadata": {},
     "output_type": "execute_result"
    }
   ],
   "source": [
    "# This will convert 200 minutes to hours by diving by 60\n",
    "minutes = 200\n",
    "hours = minutes/60\n",
    "hours\n"
   ]
  },
  {
   "cell_type": "markdown",
   "id": "00ff90fc-dbc1-428a-bcda-b6611f6f631f",
   "metadata": {},
   "source": [
    "## Author\n",
    "Enrique Liñán"
   ]
  },
  {
   "cell_type": "code",
   "execution_count": null,
   "id": "d81bc775-0f3e-4cac-bd41-5bb3711d9084",
   "metadata": {},
   "outputs": [],
   "source": []
  }
 ],
 "metadata": {
  "kernelspec": {
   "display_name": "Python 3 (ipykernel)",
   "language": "python",
   "name": "python3"
  },
  "language_info": {
   "codemirror_mode": {
    "name": "ipython",
    "version": 3
   },
   "file_extension": ".py",
   "mimetype": "text/x-python",
   "name": "python",
   "nbconvert_exporter": "python",
   "pygments_lexer": "ipython3",
   "version": "3.12.4"
  }
 },
 "nbformat": 4,
 "nbformat_minor": 5
}
